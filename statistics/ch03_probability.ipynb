{
 "cells": [
  {
   "cell_type": "markdown",
   "metadata": {},
   "source": [
    "# Chapter 3 Probability"
   ]
  },
  {
   "cell_type": "markdown",
   "metadata": {},
   "source": [
    "This notebook explains the concept of probability which is taken from Chapter 3. Specifically, we elaborate the concept of **Law of Large Numbers** on page **136**."
   ]
  },
  {
   "cell_type": "markdown",
   "metadata": {},
   "source": [
    "![](image/bag-of-numbers.jpg)*Ten numbers; unfortunately, the image does not show a bag. Image taken from [The Therapy Store](https://www.thetherapystore.com.au/product/numbers-bean-bag-set/), some rights reserved.*"
   ]
  },
  {
   "cell_type": "markdown",
   "metadata": {},
   "source": [
    "## <a id=\"home\">Table of Contents</a>\n",
    "1. [The First Simulation of taking one number randomly](#satu-angka-pertama)\n",
    "2. [The Second Simulation of taking one number randomly](#satu-angka-kedua)\n",
    "3. [Law of large numbers](#law-of-large-numbers)\n",
    "\n",
    "Go to [The End](#the-end)"
   ]
  },
  {
   "cell_type": "markdown",
   "metadata": {},
   "source": [
    "## <a id=\"satu-angka-pertama\">The First Simulation of taking one number randomly</a> (Back to [Home](#home))"
   ]
  },
  {
   "cell_type": "markdown",
   "metadata": {},
   "source": [
    "Suppose we have a bag of numbers, `bag_of_numbers` which contains $10$ numbers.    "
   ]
  },
  {
   "cell_type": "code",
   "execution_count": 26,
   "metadata": {},
   "outputs": [],
   "source": [
    "bag_of_numbers = [1,2,3,4,5,6,7,8,9,10]"
   ]
  },
  {
   "cell_type": "code",
   "execution_count": 27,
   "metadata": {},
   "outputs": [
    {
     "data": {
      "text/plain": [
       "2"
      ]
     },
     "execution_count": 27,
     "metadata": {},
     "output_type": "execute_result"
    }
   ],
   "source": [
    "indeks = 1\n",
    "bag_of_numbers[indeks]"
   ]
  },
  {
   "cell_type": "markdown",
   "metadata": {},
   "source": [
    "Let's take one number randomly from `bag_of_numbers`.     \n",
    "In order to choose a number randomly from `bag_of_numbers`, we can choose an index ($0-9$) randomly from `bag_of_numbers`.     \n",
    "Additionally, we employ `random` from `numpy` package. "
   ]
  },
  {
   "cell_type": "code",
   "execution_count": 28,
   "metadata": {},
   "outputs": [],
   "source": [
    "%reload_ext autoreload\n",
    "%autoreload 2\n",
    "%matplotlib inline"
   ]
  },
  {
   "cell_type": "code",
   "execution_count": 29,
   "metadata": {},
   "outputs": [],
   "source": [
    "import matplotlib.pyplot as plt\n",
    "from numpy import random\n",
    "import numpy as np"
   ]
  },
  {
   "cell_type": "markdown",
   "metadata": {},
   "source": [
    "We use the _method_ `randint(10)` to choose a random number randomly from $0$ to $9$ inclusively.    \n",
    "An example of randint usage to generate a random number between 0 and 4 inclusively."
   ]
  },
  {
   "cell_type": "code",
   "execution_count": 30,
   "metadata": {},
   "outputs": [
    {
     "data": {
      "text/plain": [
       "3"
      ]
     },
     "execution_count": 30,
     "metadata": {},
     "output_type": "execute_result"
    }
   ],
   "source": [
    "random.randint(5)"
   ]
  },
  {
   "cell_type": "code",
   "execution_count": 31,
   "metadata": {},
   "outputs": [
    {
     "name": "stdout",
     "output_type": "stream",
     "text": [
      "A chosen random number is 4\n"
     ]
    }
   ],
   "source": [
    "indeks_random = random.randint(10)\n",
    "random_number = bag_of_numbers[indeks_random]\n",
    "print(f\"A chosen random number is {random_number}\")"
   ]
  },
  {
   "cell_type": "markdown",
   "metadata": {},
   "source": [
    "### Questions:\n",
    "1. What is the probability of $4$ chosen from the bag?\n",
    "2. Sample a random random $10$ times.     \n",
    "Write all your answers in _cell_ below."
   ]
  },
  {
   "cell_type": "markdown",
   "metadata": {},
   "source": [
    "**Answers**:     \n",
    "1. $\\frac{1}{10} = 0.1$\n",
    "2. Sampling #1 : 6     \n",
    "   Sampling #2 : 3     \n",
    "   Sampling #3 : 8     \n",
    "   Sampling #4 : 2    \n",
    "   Sampling #5 : 6    \n",
    "   Sampling #6 : 2    \n",
    "   Sampling #7 : 2    \n",
    "   Sampling #8 : 8    \n",
    "   Sampling #9 : 4    \n",
    "   Sampling #10 : 10     \n",
    "\n",
    "From 10 _trials_ , we obtain the probability of 4 is\n",
    "    $$ \\frac{1}{10} $$\n"
   ]
  },
  {
   "cell_type": "markdown",
   "metadata": {},
   "source": [
    "## <a id=\"satu-angka-kedua\">The Second Simulation of taking one number randomly</a> (Back to [Home](#home))"
   ]
  },
  {
   "cell_type": "markdown",
   "metadata": {},
   "source": [
    "Assume our `bag_of_numbers` is modified as follows:"
   ]
  },
  {
   "cell_type": "code",
   "execution_count": 32,
   "metadata": {},
   "outputs": [],
   "source": [
    "bag_of_numbers = [4,4,4,4,4,4,4,4,9,10]"
   ]
  },
  {
   "cell_type": "code",
   "execution_count": 33,
   "metadata": {},
   "outputs": [
    {
     "name": "stdout",
     "output_type": "stream",
     "text": [
      "A chosen random number is 4\n"
     ]
    }
   ],
   "source": [
    "indeks_random = random.randint(10)\n",
    "random_number = bag_of_numbers[indeks_random]\n",
    "print(f\"A chosen random number is {random_number}\")"
   ]
  },
  {
   "cell_type": "markdown",
   "metadata": {},
   "source": [
    "### Questions:\n",
    "1. What is the probability of $4$ chosen from the bag?\n",
    "2. Sample a random random $10$ times.     \n",
    "Write all your answers in _cell_ below."
   ]
  },
  {
   "cell_type": "markdown",
   "metadata": {},
   "source": [
    "**Answers**:     \n",
    "1. _Write your answer here_    \n",
    "2. _Write your answer here_    "
   ]
  },
  {
   "cell_type": "markdown",
   "metadata": {},
   "source": [
    "## <a id=\"law-of-large-numbers\">Law of Large Numbers</a> (Back to [Home](#home))"
   ]
  },
  {
   "cell_type": "markdown",
   "metadata": {},
   "source": [
    "**Law of large numbers** is stated on page **136** from the textbook."
   ]
  },
  {
   "cell_type": "markdown",
   "metadata": {},
   "source": [
    "> #### LAW OF LARGE NUMBERS\n",
    "As _an experiment is repeated over and over, the empirical probability of an event_ **approaches the theoretical (actual) probability of the event**."
   ]
  },
  {
   "cell_type": "code",
   "execution_count": 34,
   "metadata": {},
   "outputs": [],
   "source": [
    "# Maximum number of sampling\n",
    "MAX_SAMPLING = 300\n",
    "num_of_sampling = np.arange(1,MAX_SAMPLING+1)"
   ]
  },
  {
   "cell_type": "code",
   "execution_count": 35,
   "metadata": {},
   "outputs": [
    {
     "data": {
      "text/plain": [
       "array([ 1,  2,  3,  4,  5,  6,  7,  8,  9, 10])"
      ]
     },
     "execution_count": 35,
     "metadata": {},
     "output_type": "execute_result"
    }
   ],
   "source": [
    "num_of_sampling[:10]"
   ]
  },
  {
   "cell_type": "code",
   "execution_count": 36,
   "metadata": {},
   "outputs": [
    {
     "name": "stdout",
     "output_type": "stream",
     "text": [
      "Probability of 4 with number of experiments 10 is 0.2\n",
      "Probability of 4 with number of experiments 20 is 0.1\n",
      "Probability of 4 with number of experiments 30 is 0.13333333333333333\n",
      "Probability of 4 with number of experiments 40 is 0.05\n",
      "Probability of 4 with number of experiments 50 is 0.04\n",
      "Probability of 4 with number of experiments 60 is 0.06666666666666667\n",
      "Probability of 4 with number of experiments 70 is 0.07142857142857142\n",
      "Probability of 4 with number of experiments 80 is 0.125\n",
      "Probability of 4 with number of experiments 90 is 0.1111111111111111\n",
      "Probability of 4 with number of experiments 100 is 0.06\n",
      "Probability of 4 with number of experiments 110 is 0.14545454545454545\n",
      "Probability of 4 with number of experiments 120 is 0.13333333333333333\n",
      "Probability of 4 with number of experiments 130 is 0.12307692307692308\n",
      "Probability of 4 with number of experiments 140 is 0.11428571428571428\n",
      "Probability of 4 with number of experiments 150 is 0.11333333333333333\n",
      "Probability of 4 with number of experiments 160 is 0.09375\n",
      "Probability of 4 with number of experiments 170 is 0.11764705882352941\n",
      "Probability of 4 with number of experiments 180 is 0.08333333333333333\n",
      "Probability of 4 with number of experiments 190 is 0.13157894736842105\n",
      "Probability of 4 with number of experiments 200 is 0.115\n",
      "Probability of 4 with number of experiments 210 is 0.13333333333333333\n",
      "Probability of 4 with number of experiments 220 is 0.11363636363636363\n",
      "Probability of 4 with number of experiments 230 is 0.1\n",
      "Probability of 4 with number of experiments 240 is 0.1\n",
      "Probability of 4 with number of experiments 250 is 0.096\n",
      "Probability of 4 with number of experiments 260 is 0.08461538461538462\n",
      "Probability of 4 with number of experiments 270 is 0.08518518518518518\n",
      "Probability of 4 with number of experiments 280 is 0.05714285714285714\n",
      "Probability of 4 with number of experiments 290 is 0.10344827586206896\n",
      "Probability of 4 with number of experiments 300 is 0.09666666666666666\n"
     ]
    }
   ],
   "source": [
    "# Initialize the bag of numbers\n",
    "bag_of_numbers = [1,2,3,4,5,6,7,8,9,10]\n",
    "\n",
    "# Initialize a list of proportions of 4\n",
    "proportion_of_fours = []\n",
    "\n",
    "# For each sampling\n",
    "for counter_toss in num_of_sampling:\n",
    "    # Initialize the frequency of 4's occurrence\n",
    "    freq_num_4 = 0\n",
    "    \n",
    "    # Start the sampling from number of sampling 0 to (counter_toss - 1)\n",
    "    for counter in range(counter_toss):\n",
    "        # Choose the index  from 0 to 9 randomly\n",
    "        indeks_random = random.randint(10)\n",
    "        \n",
    "        # Choose the random number based on the index\n",
    "        random_number = bag_of_numbers[indeks_random]\n",
    "        \n",
    "        # If the random number equals to 4, add one to frequency of 4\n",
    "        if random_number == 4:\n",
    "            freq_num_4 += 1\n",
    "    \n",
    "    # Sampling is done, let us count the probability of occurrence of 4\n",
    "    prob_num_4 = float(freq_num_4) / counter_toss\n",
    "    \n",
    "    # Add each probability to the list 'proportions_of_fours'\n",
    "    proportion_of_fours.append(prob_num_4)    \n",
    "    \n",
    "    # Just for debugging purposes\n",
    "    if counter_toss % 10 == 0:\n",
    "        print(f\"Probability of 4 with number of experiments {counter_toss} is {prob_num_4}\")"
   ]
  },
  {
   "cell_type": "code",
   "execution_count": 37,
   "metadata": {},
   "outputs": [
    {
     "data": {
      "text/plain": [
       "Text(0.5, 1.0, 'Probability of Choosing a 4 Randomly')"
      ]
     },
     "execution_count": 37,
     "metadata": {},
     "output_type": "execute_result"
    },
    {
     "data": {
      "image/png": "[encoded data removed]",
      "text/plain": [
       "<Figure size 432x288 with 1 Axes>"
      ]
     },
     "metadata": {
      "needs_background": "light"
     },
     "output_type": "display_data"
    }
   ],
   "source": [
    "# x_coordinates = [0,0.1]\n",
    "# y_coordinates = [MAX_TOSSES,0.1]\n",
    "plt.plot(num_of_sampling, proportion_of_fours)\n",
    "plt.hlines(0.1, 1, MAX_SAMPLING, colors='k', linestyles='solid')\n",
    "plt.xlabel(\"Number of sampling\")\n",
    "plt.ylabel(\"Proportions that are 4\")\n",
    "plt.title(\"Probability of Choosing a 4 Randomly\")"
   ]
  },
  {
   "cell_type": "markdown",
   "metadata": {},
   "source": [
    "Dalam eksperimen berikut, isi dari kantong bilangan diubah sedikit."
   ]
  },
  {
   "cell_type": "code",
   "execution_count": 38,
   "metadata": {},
   "outputs": [],
   "source": [
    "MAX_TOSSES = 300\n",
    "num_of_sampling = np.arange(1,MAX_TOSSES+1)"
   ]
  },
  {
   "cell_type": "code",
   "execution_count": 39,
   "metadata": {},
   "outputs": [
    {
     "name": "stdout",
     "output_type": "stream",
     "text": [
      "Probability of 4 with number of experiments 10 is 0.8\n",
      "Probability of 4 with number of experiments 20 is 0.55\n",
      "Probability of 4 with number of experiments 30 is 0.8666666666666667\n",
      "Probability of 4 with number of experiments 40 is 0.825\n",
      "Probability of 4 with number of experiments 50 is 0.74\n",
      "Probability of 4 with number of experiments 60 is 0.85\n",
      "Probability of 4 with number of experiments 70 is 0.8\n",
      "Probability of 4 with number of experiments 80 is 0.8\n",
      "Probability of 4 with number of experiments 90 is 0.7666666666666667\n",
      "Probability of 4 with number of experiments 100 is 0.84\n",
      "Probability of 4 with number of experiments 110 is 0.8454545454545455\n",
      "Probability of 4 with number of experiments 120 is 0.8\n",
      "Probability of 4 with number of experiments 130 is 0.7846153846153846\n",
      "Probability of 4 with number of experiments 140 is 0.7857142857142857\n",
      "Probability of 4 with number of experiments 150 is 0.82\n",
      "Probability of 4 with number of experiments 160 is 0.83125\n",
      "Probability of 4 with number of experiments 170 is 0.8176470588235294\n",
      "Probability of 4 with number of experiments 180 is 0.7944444444444444\n",
      "Probability of 4 with number of experiments 190 is 0.7526315789473684\n",
      "Probability of 4 with number of experiments 200 is 0.8\n",
      "Probability of 4 with number of experiments 210 is 0.7857142857142857\n",
      "Probability of 4 with number of experiments 220 is 0.8090909090909091\n",
      "Probability of 4 with number of experiments 230 is 0.8173913043478261\n",
      "Probability of 4 with number of experiments 240 is 0.8291666666666667\n",
      "Probability of 4 with number of experiments 250 is 0.828\n",
      "Probability of 4 with number of experiments 260 is 0.7923076923076923\n",
      "Probability of 4 with number of experiments 270 is 0.8037037037037037\n",
      "Probability of 4 with number of experiments 280 is 0.8214285714285714\n",
      "Probability of 4 with number of experiments 290 is 0.7827586206896552\n",
      "Probability of 4 with number of experiments 300 is 0.82\n"
     ]
    }
   ],
   "source": [
    "# Inisialisasi kantong_bilangan mula-mula\n",
    "bag_of_numbers = [4,4,4,4,4,4,4,4,9,10]\n",
    "\n",
    "# Inisialisasi frekuensi kemunculan angka 4\n",
    "proportion_of_fours = []\n",
    "for counter_toss in num_of_sampling:\n",
    "    freq_num_4 = 0\n",
    "    for counter in range(counter_toss):\n",
    "        indeks_random = random.randint(10)\n",
    "        random_number = bag_of_numbers[indeks_random]\n",
    "        if random_number == 4:\n",
    "            freq_num_4 += 1\n",
    "    prob_num_4 = float(freq_num_4) / counter_toss\n",
    "    proportion_of_fours.append(prob_num_4)    \n",
    "    if counter_toss % 10 == 0:\n",
    "        print(f\"Probability of 4 with number of experiments {counter_toss} is {prob_num_4}\")"
   ]
  },
  {
   "cell_type": "code",
   "execution_count": 25,
   "metadata": {},
   "outputs": [
    {
     "data": {
      "text/plain": [
       "Text(0.5, 1.0, 'Probability of Choosing a 4 Randomly')"
      ]
     },
     "execution_count": 25,
     "metadata": {},
     "output_type": "execute_result"
    },
    {
     "data": {
      "image/png": "[encoded data removed]",
      "text/plain": [
       "<Figure size 432x288 with 1 Axes>"
      ]
     },
     "metadata": {
      "needs_background": "light"
     },
     "output_type": "display_data"
    }
   ],
   "source": [
    "# x_coordinates = [0,0.1]\n",
    "# y_coordinates = [MAX_TOSSES,0.1]\n",
    "plt.plot(num_of_sampling, proportion_of_fours)\n",
    "plt.hlines(0.8, 1, MAX_TOSSES, colors='k', linestyles='solid')\n",
    "plt.xlabel(\"Number of tosses\")\n",
    "plt.ylabel(\"Proportions that are 4\")\n",
    "plt.title(\"Probability of Choosing a 4 Randomly\")"
   ]
  },
  {
   "cell_type": "markdown",
   "metadata": {},
   "source": [
    "## <a id=\"the-end\">The End</a> (Back to [Home](#home))"
   ]
  }
 ],
 "metadata": {
  "kernelspec": {
   "display_name": "Python 3 (ipykernel)",
   "language": "python",
   "name": "python3"
  },
  "language_info": {
   "codemirror_mode": {
    "name": "ipython",
    "version": 3
   },
   "file_extension": ".py",
   "mimetype": "text/x-python",
   "name": "python",
   "nbconvert_exporter": "python",
   "pygments_lexer": "ipython3",
   "version": "3.12.2"
  }
 },
 "nbformat": 4,
 "nbformat_minor": 4
}
