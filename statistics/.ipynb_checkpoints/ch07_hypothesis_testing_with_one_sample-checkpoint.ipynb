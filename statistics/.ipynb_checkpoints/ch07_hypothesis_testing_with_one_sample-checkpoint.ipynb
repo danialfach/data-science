{
 "cells": [
  {
   "cell_type": "markdown",
   "metadata": {
    "slideshow": {
     "slide_type": "slide"
    }
   },
   "source": [
    "## Chapter 07\n",
    "# Hypothesis Testing with One Sample\n",
    "\n",
    "Adopted from [\"Elementary Statistics - Picturing the World\" 6th edition](https://www.amazon.com/Elementary-Statistics-Picturing-World-6th/dp/0321911210/)"
   ]
  },
  {
   "cell_type": "code",
   "execution_count": 1,
   "metadata": {
    "slideshow": {
     "slide_type": "skip"
    }
   },
   "outputs": [
    {
     "data": {
      "text/plain": [
       "{'scroll': True, 'width': '100%', 'height': '100%'}"
      ]
     },
     "execution_count": 1,
     "metadata": {},
     "output_type": "execute_result"
    }
   ],
   "source": [
    "from notebook.services.config import ConfigManager\n",
    "cm = ConfigManager()\n",
    "cm.update('livereveal', {\n",
    "        'scroll': True,\n",
    "        'width': \"100%\",\n",
    "        'height': \"100%\",\n",
    "})"
   ]
  },
  {
   "cell_type": "markdown",
   "metadata": {
    "slideshow": {
     "slide_type": "slide"
    }
   },
   "source": [
    "\n",
    "## 7.1 <br/>Introduction to Hypothesis Testing"
   ]
  },
  {
   "cell_type": "markdown",
   "metadata": {
    "slideshow": {
     "slide_type": "subslide"
    }
   },
   "source": [
    "### Hypothesis Tests\n",
    "\n",
    "- A **hypothesis test** is a process that uses sample statistics to test a claim about the value of a population parameter.\n",
    "- Researchers in fields such as medicine, psychology, and business rely on hypothesis testing to make informed decisions about new medicines, treatments, and marketing strategies."
   ]
  },
  {
   "cell_type": "markdown",
   "metadata": {
    "slideshow": {
     "slide_type": "subslide"
    }
   },
   "source": [
    "### Stating a Hypothesis\n",
    "\n",
    "- A statement about a population parameter is called a **statistical hypothesis**.\n",
    "- To test a population parameter, you should carefully state a pair of hypotheses—one that represents the claim and the other, its complement.\n",
    "- When one of these hypotheses is false, the other must be true. Either hypothesis—the **null hypothesis** or the **alternative hypothesis** —may represent the original claim.\n",
    "- The term **null hypothesis** was introduced by Ronald Fisher.\n",
    "- If the statement in the **null hypothesis** is not true, then the **alternative hypothesis** must be true."
   ]
  },
  {
   "cell_type": "markdown",
   "metadata": {
    "slideshow": {
     "slide_type": "subslide"
    }
   },
   "source": [
    "### Stating a Hypothesis: Definition\n",
    "\n",
    "- A **null hypothesis $H_{0}$** is a statistical hypothesis that contains a statement of equality, such as $\\le$, $=$, or $\\ge$.\n",
    "- The **alternative hypothesis $H_{a}$** is the complement of the null hypothesis. It is a statement that must be true if $H_{0}$ is false and it contains a statement of strict inequality, such as $\\gt$, $\\ne$, or $\\lt$."
   ]
  },
  {
   "cell_type": "markdown",
   "metadata": {
    "slideshow": {
     "slide_type": "subslide"
    }
   },
   "source": [
    "### Stating a Hypothesis\n",
    "\n",
    "- To write the null and alternative hypotheses, translate the claim made about the population parameter from a verbal statement to a mathematical statement. Then, write its complement. \n",
    "- For instance, if the claim value is $k$ and the population parameter is $\\mu$, then some possible pairs of null and alternative hypotheses are:\n",
    " - $\\left\\{ \\begin{array}{}\n",
    "       H_{0}:\\mu \\le k \\\\\n",
    "       H_{a}:\\mu \\gt k \n",
    "     \\end{array}\\right.$\n",
    "     \n",
    " - $\\left\\{ \\begin{array}{}\n",
    "       H_{0}:\\mu \\ge k \\\\\n",
    "       H_{a}:\\mu \\lt k \n",
    "     \\end{array}\\right.$\n",
    "\n",
    " - $\\left\\{ \\begin{array}{}\n",
    "       H_{0}:\\mu = k \\\\\n",
    "       H_{a}:\\mu \\ne k \n",
    "     \\end{array}\\right.$\n",
    "\n",
    "- Regardless of which of the three pairs of hypotheses we use, we always assume $\\mu = k$ and examine the sampling distribution on the basis of this assumption. \n",
    "- Within this sampling distribution, we will determine whether or not a sample statistic is unusual."
   ]
  },
  {
   "cell_type": "markdown",
   "metadata": {
    "slideshow": {
     "slide_type": "subslide"
    }
   },
   "source": [
    "### Stating a Hypothesis\n",
    "\n",
    "- The table shows the relationship between possible verbal statements about the parameter $\\mu$ and the corresponding null and alternative hypotheses.\n",
    "- Similar statements can be made to test other population parameters, such as $p$, $\\sigma$, or $\\sigma^{2}$.\n",
    "\n",
    "![](./image/7_1_hypothesis_table.png)"
   ]
  },
  {
   "cell_type": "markdown",
   "metadata": {
    "slideshow": {
     "slide_type": "subslide"
    }
   },
   "source": [
    "### Stating the Null and Alternative Hypotheses [example 1]\n",
    "\n",
    "Write the claim as a mathematical statement. State the null and alternative hypotheses, and identify which represents the claim.\n",
    "\n",
    "- Q1: A school publicizes that the proportion of its students who are involved in at least one extracurricular activity is $61\\%$.\n",
    "- Q2: A car dealership announces that the mean time for an oil change is less than $15$ minutes.\n",
    "- Q3: A company advertises that the mean life of its furnaces is more than $18$ years."
   ]
  },
  {
   "cell_type": "markdown",
   "metadata": {
    "slideshow": {
     "slide_type": "subslide"
    }
   },
   "source": [
    "### Stating the Null and Alternative Hypotheses [solution]\n",
    "\n",
    "#### Q1: A school publicizes that the proportion of its students who are involved in at least one extracurricular activity is $61\\%$.\n",
    "- The claim can be written as $p = 0.61$. \n",
    "- Its complement is $p \\ne 0.61$. \n",
    "- Because $p = 0.61$ contains the statement of equality, it becomes the **null hypothesis**. \n",
    "- In this case, the **null hypothesis** represents the **claim**.\n",
    "- $\\left\\{ \\begin{array}{}\n",
    "       H_{0}:p = 0.61\\\\\n",
    "       H_{a}:p \\ne 0.61 \n",
    "     \\end{array}\\right.$\n",
    "![](./image/7_1_ex_1_q_1_hypothesis.png)\n",
    "\n",
    "#### Q2: A car dealership announces that the mean time for an oil change is less than $15$ minutes.\n",
    "- The claim can be written as $\\mu \\lt 15$.\n",
    "- Its complement is $\\mu \\ge 15$. \n",
    "- Because $\\mu \\ge 15$ contains the statement of equality, it becomes the **null hypothesis**. \n",
    "- In this case, the **alternative hypothesis** represents the **claim**.\n",
    "- $\\left\\{ \\begin{array}{}\n",
    "       H_{0}:\\mu \\ge 15\\\\\n",
    "       H_{a}:\\mu \\lt 15 \n",
    "     \\end{array}\\right.$\n",
    "![](./image/7_1_ex_1_q_2_hypothesis.png)\n",
    " \n",
    "#### Q3: A company advertises that the mean life of its furnaces is more than $18$ years.\n",
    "- The claim can be written as $\\mu \\gt 18$.\n",
    "- Its complement is $\\mu \\le 18$. \n",
    "- Because $\\mu \\le 18$ contains the statement of equality, it becomes the null hypothesis. \n",
    "- In this case, the **alternative hypothesis** represents the **claim**.\n",
    "- $\\left\\{ \\begin{array}{}\n",
    "       H_{0}:\\mu \\le 18\\\\\n",
    "       H_{a}:\\mu \\gt 18 \n",
    "     \\end{array}\\right.$\n",
    "![](./image/7_1_ex_1_q_3_hypothesis.png)"
   ]
  },
  {
   "cell_type": "markdown",
   "metadata": {
    "slideshow": {
     "slide_type": "subslide"
    }
   },
   "source": [
    "### Types of Errors and Level of Significance\n",
    "\n",
    "- No matter which hypothesis represents the claim, we always begin a hypothesis test by assuming that the equality condition in the null hypothesis is true. \n",
    "- When we perform a hypothesis test, we make one of two decisions:\n",
    "  1. reject the null hypothesis or\n",
    "  2. accept (fail to reject) the null hypothesis.\n",
    "- Because your decision is based on a sample rather than the entire population, there is always the possibility you will make the wrong decision.\n",
    "- The only way to be absolutely certain of whether $H_{0}$ is true or false is to test the entire population. \n",
    "- Because your decision — to reject $H_{0}$ or to accept (fail to reject) $H_{0}$ — is based on a sample, you must accept the fact that your decision might be incorrect."
   ]
  },
  {
   "cell_type": "markdown",
   "metadata": {
    "slideshow": {
     "slide_type": "subslide"
    }
   },
   "source": [
    "### Types of Errors: Definition\n",
    "\n",
    "\n",
    "- A **type I error** occurs if the null hypothesis is rejected when it is true. **Failed to accept**.\n",
    "- A **type II error** occurs if the null hypothesis is not rejected when it is false. **Failed to reject**.\n",
    "\n",
    "![](./image/7_1_type_of_errors_table.png)"
   ]
  },
  {
   "cell_type": "markdown",
   "metadata": {
    "slideshow": {
     "slide_type": "subslide"
    }
   },
   "source": [
    "### Types of Errors \n",
    "\n",
    "Hypothesis testing is sometimes compared to the legal system used in the United States. Under this system, these steps are used:\n",
    "\n",
    "1. A carefully worded accusation is written.\n",
    "2. The defendant is assumed innocent ($H_{0}$) until proven guilty. The burden of proof lies with the prosecution. If the evidence is not strong enough, then there is no conviction. A “not guilty” verdict does not prove that a defendant is innocent.\n",
    "3. The evidence needs to be conclusive beyond a reasonable doubt. The system assumes that more harm is done by convicting the innocent (**type I error**) than by not convicting the guilty (**type II error**).\n",
    "\n",
    "![](./image/7_1_types_of_errors_legal.png)"
   ]
  },
  {
   "cell_type": "markdown",
   "metadata": {
    "slideshow": {
     "slide_type": "subslide"
    }
   },
   "source": [
    "### Identifying Type I and Type II Errors [example 2]\n",
    "\n",
    "- The USDA limit for salmonella contamination for chicken is $20\\%$. \n",
    "- A meat inspector reports that the chicken produced by a company exceeds the USDA limit. \n",
    "- You perform a hypothesis test to determine whether the meat inspector’s claim is true. \n",
    "- When will a type I or type II error occur? \n",
    "- Which error is more serious?"
   ]
  },
  {
   "cell_type": "markdown",
   "metadata": {
    "slideshow": {
     "slide_type": "subslide"
    }
   },
   "source": [
    "### Identifying Type I and Type II Errors [solution]\n",
    "\n",
    "- Let $p$ represent the proportion of the chicken that is contaminated. \n",
    "- The meat inspector’s claim is “more than $20\\%$ is contaminated.” \n",
    "- We can write the null and alternative hypotheses as:\n",
    "\n",
    "$\\left\\{ \\begin{array}{}\n",
    "       H_{0}:p \\le 0.2\\\\\n",
    "       H_{a}:p \\gt 0.2 \n",
    "     \\end{array}\\right.$\n",
    "\n",
    "- In this case, the **alternative hypothesis** represents the **claim**.\n",
    "\n",
    "![](./image/7_1_ex_2_contaminated_chicken.png)\n",
    "\n",
    "- A **type I error** will occur when the actual proportion of contaminated chicken is less than or equal to $0.2$, but you reject $H_{0}$ . \n",
    "- A **type II error** will occur when the actual proportion of contaminated chicken is greater than $0.2$, but you do not reject $H_{0}$.\n",
    "- With a type I error, you might create a health scare and hurt the sales of chicken producers who were actually meeting the USDA limits.\n",
    "- With a type II error, you could be allowing chicken that exceeded the USDA contamination limit to be sold to consumers. \n",
    "- A type II error is more serious because it could result in sickness or even death."
   ]
  },
  {
   "cell_type": "markdown",
   "metadata": {
    "slideshow": {
     "slide_type": "subslide"
    }
   },
   "source": [
    "### Level of Significance\n",
    "\n",
    "- We will reject the null hypothesis when the sample statistic from the sampling distribution is unusual. \n",
    "- We have already identified unusual events to be those that occur with a probability of $0.05$ or less. \n",
    "- When statistical tests are used, an unusual event is sometimes required to have a probability of $0.10$ or less, $0.05$ or less, or $0.01$ or less. \n",
    "- Because there is variation from sample to sample, there is always a possibility that you will reject a null hypothesis when it is actually true. \n",
    "- In other words, although the null hypothesis is true, your sample statistic is determined to be an unusual event in the sampling distribution. \n",
    "- We can decrease the probability of this happening by lowering the **level of significance**."
   ]
  },
  {
   "cell_type": "markdown",
   "metadata": {
    "slideshow": {
     "slide_type": "subslide"
    }
   },
   "source": [
    "### Level of Significance: Definition\n",
    "\n",
    "- In a hypothesis test, the level of significance is your maximum allowable probability of making a **type I error**. It is denoted by $\\alpha$, the lowercase Greek letter **alpha**.\n",
    "- The probability of a **type II error** is denoted by $\\beta$, the lowercase Greek letter **beta**.\n",
    "\n",
    "- By setting the level of significance at a small value, we are saying that you want the probability of rejecting a true null hypothesis to be small. \n",
    "- Three commonly used levels of significance are $\\alpha = 0.10$, $\\alpha = 0.05$, and $\\alpha = 0.01$.\n",
    "- When we decrease $\\alpha$, we are likely to be increasing $\\beta$."
   ]
  },
  {
   "cell_type": "markdown",
   "metadata": {
    "slideshow": {
     "slide_type": "subslide"
    }
   },
   "source": [
    "### Statistical Tests and $P$-Values\n",
    "\n",
    "- After stating the null and alternative hypotheses and specifying the level of significance, the next step in a hypothesis test is to obtain a random sample from the population and calculate the sample statistic ( such as $\\bar{x}$, $\\hat{p}$, or $s^{2}$) corresponding to the parameter in the null hypothesis (such as $\\mu$, $p$, or $\\sigma^{2}$) .\n",
    "- This sample statistic is called the **test statistic**. \n",
    "- With the assumption that the null hypothesis is true, the test statistic is then converted to a **standardized test statistic**, such as $z$, $t$, or $x^{2}$ . \n",
    "- The standardized test statistic is used in making the decision about the null hypothesis."
   ]
  },
  {
   "cell_type": "markdown",
   "metadata": {
    "slideshow": {
     "slide_type": "subslide"
    }
   },
   "source": [
    "### Statistical Tests and $P$-Values\n",
    "\n",
    "- If the null hypothesis is true, then a **$P$-value** (or **probability value**) of a hypothesis test is the probability of obtaining a sample statistic with a value as extreme or more extreme than the one determined from the sample data.\n",
    "- The $P$-value of a hypothesis test depends on the nature of the test. \n",
    "- There are three types of hypothesis tests — **left-tailed**, **right-tailed**, and **two-tailed**.\n",
    "- The type of test depends on the location of the region of the sampling distribution that favors a rejection of $H_{0}$. \n",
    "- This region is indicated by the alternative hypothesis."
   ]
  },
  {
   "cell_type": "markdown",
   "metadata": {
    "slideshow": {
     "slide_type": "subslide"
    }
   },
   "source": [
    "### Statistical Tests and $P$-Values\n",
    "\n",
    "1. If the **alternative hypothesis** $H_{a}$ contains the **less-than** inequality symbol ($\\lt$), then the hypothesis test is a **left-tailed test**.\n",
    "\n",
    "![](./image/7_1_left_tailed_test_plot.png)\n",
    "\n",
    "2. If the **alternative hypothesis** $H_{a}$ contains the **greater-than** inequality symbol ($\\gt$), then the hypothesis test is a **right-tailed test**.\n",
    "\n",
    "![](./image/7_1_right_tailed_test_plot.png)\n",
    "\n",
    "3. If the **alternative hypothesis** $H_{a}$ contains the **not-equal-to** symbol ($\\ne$), then the hypothesis test is a **two-tailed test**. In a two-tailed test, each tail has an area of $\\frac{1}{2}P$.\n",
    "\n",
    "![](./image/7-1_two_tailed_test_plot.png)\n",
    "\n",
    "#### How to interpret\n",
    "\n",
    "- The smaller the $P$-value of the test, the more evidence there is to reject the null hypothesis. \n",
    "- A very small $P$-value indicates an unusual event. \n",
    "- However, that even a very low $P$-value does not constitute proof that the null hypothesis is false, only that it is probably false."
   ]
  },
  {
   "cell_type": "markdown",
   "metadata": {
    "slideshow": {
     "slide_type": "subslide"
    }
   },
   "source": [
    "### Identifying the Nature of a Hypothesis Test [example 3]\n",
    "\n",
    "For each claim, state $H_{0}$ and $H_{a}$ in words and in symbols. Then determine whether the hypothesis test is a left-tailed test, right-tailed test, or two-tailed test. Sketch a normal sampling distribution and shade the area for the $P$-value.\n",
    "\n",
    "- Q1: A school publicizes that the proportion of its students who are involved in at least one extracurricular activity is $61\\%$.\n",
    "- Q2: A car dealership announces that the mean time for an oil change is less than $15$ minutes.\n",
    "- Q3: A company advertises that the mean life of its furnaces is more than $18$ years."
   ]
  },
  {
   "cell_type": "markdown",
   "metadata": {
    "slideshow": {
     "slide_type": "subslide"
    }
   },
   "source": [
    "### Identifying the Nature of a Hypothesis Test [solution]\n",
    "\n",
    "#### Q1: A school publicizes that the proportion of its students who are involved in at least one extracurricular activity is $61\\%$.\n",
    "\n",
    "- The proportion of students who are involved in at least one extracurricular activity is $61\\%$.\n",
    "  - $H_{0} = 0.61$\n",
    "\n",
    "- The proportion of students who are involved in at least one extracurricular activity is not $61\\%$.\n",
    "  - $H_{a} \\ne 0.61$\n",
    "  \n",
    "- Because $H_{a}$ contains the $\\ne$ symbol, the test is a two-tailed hypothesis test.\n",
    "- The figure below shows the normal sampling distribution with a shaded area for the $P$-value.\n",
    "\n",
    "![](./image/7_1_ex_3_q_1_p_value_plut.png)\n",
    "\n",
    "#### Q2: A car dealership announces that the mean time for an oil change is less than $15$ minutes.\n",
    "\n",
    "- The mean time for an oil change is greater than or equal to $15$ minutes.\n",
    "  - $H_{0}: \\mu \\ge 15$\n",
    "\n",
    "- The mean time for an oil change is less than $15$ minutes.\n",
    "  - $H_{a}: \\mu \\lt 15$\n",
    "  \n",
    "- Because $H_{a}$ contains the $\\lt$ symbol, the test is a left-tailed hypothesis test.\n",
    "- The figure below shows the normal sampling distribution with a shaded area for the $P$-value.\n",
    "\n",
    "![](./image/7_1_ex_3_q_2_p_value_plot.png)\n",
    "\n",
    "#### Q3: A company advertises that the mean life of its furnaces is more than $18$ years.\n",
    "\n",
    "- The mean life of the furnaces is less than or equal to $18$ years.\n",
    "  - $H_{0}: \\mu \\le 18$\n",
    "\n",
    "- The mean life of the furnaces is more than $18$ years.\n",
    "  - $H_{a}: \\mu \\gt 18$\n",
    "\n",
    "- Because $H_{a}$ contains the $\\gt$ symbol, the test is a right-tailed hypothesis test.\n",
    "- The figure below shows the normal sampling distribution with a shaded area for the $P$-value.\n",
    "\n",
    "![](./image/7_1_ex_3_q_3_p_value_plot.png)"
   ]
  },
  {
   "cell_type": "markdown",
   "metadata": {
    "slideshow": {
     "slide_type": "subslide"
    }
   },
   "source": [
    "### Making a Decision and Interpreting the Decision\n",
    "\n",
    "- To conclude a hypothesis test, we make a decision and interpret that decision.\n",
    "- For any hypothesis test, there are two possible outcomes:  \n",
    "  1. reject the null hypothesis or \n",
    "  2. accept (fail to reject) the null hypothesis.\n",
    "  \n",
    "- To use a $P$-value to make a decision in a hypothesis test, compare the $P$-value with $\\alpha$.\n",
    "  - If $P \\le \\alpha$, then reject $H_{0}$.\n",
    "  - If $P \\gt \\alpha$, then accept (fail to reject) $H_{0}$.\n",
    "  \n",
    "- Accepting (failing to reject) the null hypothesis does not mean that we have accepted the null hypothesis as true. It simply means that there is not enough evidence to reject the null hypothesis. \n",
    "- To support a claim, state it so that it becomes the alternative hypothesis. \n",
    "- To reject a claim, state it so that it becomes the null hypothesis. \n",
    "\n",
    "![](./image/7_1_h0_table.png)"
   ]
  },
  {
   "cell_type": "markdown",
   "metadata": {
    "slideshow": {
     "slide_type": "subslide"
    }
   },
   "source": [
    "### Making a Decision and Interpreting the Decision [example 4]\n",
    "\n",
    "You perform a hypothesis test for each claim. How should you interpret your decision if you reject $H_{0}$? If you fail to reject $H_{0}$?\n",
    "\n",
    "- Q1: $H_{0}$ (Claim): A school publicizes that the proportion of its students who are involved in at least one extracurricular activity is $61\\%$.\n",
    "- Q2: $H_{a}$ (Claim): A car dealership announces that the mean time for an oil change is less than $15$ minutes."
   ]
  },
  {
   "cell_type": "markdown",
   "metadata": {
    "slideshow": {
     "slide_type": "subslide"
    }
   },
   "source": [
    "### Making a Decision and Interpreting the Decision [solution]\n",
    "\n",
    "#### Q1: $H_{0}$ (Claim): A school publicizes that the proportion of its students who are involved in at least one extracurricular activity is $61\\%$.\n",
    "\n",
    "- The claim is represented by $H_{0}$. \n",
    "- If you reject $H_{0}$, then you should conclude \"there is enough evidence to reject the school's claim that the proportion of students who are involved in at least one extracurricular activity is $61\\%$.\"\n",
    "- If you fail to reject $H_{0}$, then you should conclude “there is not enough evidence to reject the school’s claim that the proportion of students who are involved in at least one extracurricular activity is $61\\%$.”\n",
    "\n",
    "#### Q2: $H_{a}$ (Claim): A car dealership announces that the mean time for an oil change is less than $15$ minutes.\n",
    "\n",
    "- The claim is represented by $H_{a}$, so the null hypothesis is “the mean time for an oil change is greater than or equal to 15 minutes.” \n",
    "- If we reject $H_{0}$, then we should conclude “there is enough evidence to support the dealership’s claim that the mean time for an oil change is less than $15$ minutes.” \n",
    "- If we fail to reject $H_{0}$, then we should conclude “there is not enough evidence to support the dealership’s claim that the mean time for an oil change is less than $15$ minutes.”"
   ]
  },
  {
   "cell_type": "markdown",
   "metadata": {
    "slideshow": {
     "slide_type": "subslide"
    }
   },
   "source": [
    "### Steps for Hypothesis Testing\n",
    "\n",
    "1. State the claim mathematically and verbally. Identify the null and alternative hypotheses.\n",
    "  - $H_0 = ?$, $H_a = ?$\n",
    "  \n",
    "1. Specify the level of significance.\n",
    "  - $\\alpha = ?$\n",
    "  \n",
    "3. Determine the standardizedsampling distribution and sketch its graph.\n",
    "![](./image/7_1_standardized_sampling_distribution.png)\n",
    "\n",
    "4. Calculate the test statistic and its corresponding standardized test statistic. Add it to your sketch.\n",
    "![](./image/7_1_standardized_test_statistics.png)\n",
    "\n",
    "5. Find the $P$-value.\n",
    "6. Use this decision rule.\n",
    "![](./image/7_1_decision_rule.png)\n",
    "\n",
    "7. Write a statement to interpret the decision in the context of the original claim."
   ]
  },
  {
   "cell_type": "markdown",
   "metadata": {
    "slideshow": {
     "slide_type": "subslide"
    }
   },
   "source": [
    "### Strategies for Hypothesis Testing\n",
    "\n",
    "- The strategy that we will use in hypothesis testing should depend on whether we are trying to support or reject a claim. \n",
    "- Remember that we cannot use a hypothesis test to support our claim when our claim is the null hypothesis.\n",
    "- So, as a researcher, to perform a hypothesis test where the possible outcome will support a claim, word the claim so it is the alternative hypothesis. \n",
    "- To perform a hypothesis test where the possible outcome will reject a claim, word it so the claim is the null hypothesis."
   ]
  },
  {
   "cell_type": "markdown",
   "metadata": {
    "slideshow": {
     "slide_type": "subslide"
    }
   },
   "source": [
    "### Writing the Hypotheses [example 5]\n",
    "\n",
    "A medical research team is investigating the benefits of a new surgical treatment. One of the claims is that the mean recovery time for patients after the new treatment is less than $96$ hours.\n",
    "\n",
    "- Q1: How would you write the null and alternative hypotheses when you are on the research team and want to support the claim?\n",
    "- Q2: How would you write the null and alternative hypotheses when you are on an opposing team and want to reject the claim?"
   ]
  },
  {
   "cell_type": "markdown",
   "metadata": {
    "slideshow": {
     "slide_type": "subslide"
    }
   },
   "source": [
    "### Writing the Hypotheses [solution]\n",
    "\n",
    "#### Q1\n",
    "\n",
    "To answer the question, first think about the context of the claim. Because you want to support this claim, make the alternative hypothesis state that the mean recovery time for patients is less than $96$ hours.\n",
    "So, $H_a : \\mu < 96$ hours. Its complement, $H_0 : \\mu \\ge 96$ hours, would be the\n",
    "null hypothesis.\n",
    "- $H_0 : \\mu \\ge 96$\n",
    "- $H_a : \\mu < 96$ (Claim)\n",
    "\n",
    "#### Q2\n",
    "\n",
    "First think about the context of the claim. As an opposing researcher, you do not want the recovery time to be less than $96$ hours. Because you want to reject this claim, make it the null hypothesis. So, $H_0 : \\mu \\le 96$ hours.\n",
    "Its complement, $H_a : \\mu > 96$ hours, would be the alternative hypothesis.\n",
    "- $H_0 : \\mu \\le 96$ (Claim)\n",
    "- $H_a : \\mu > 96$\n"
   ]
  },
  {
   "cell_type": "markdown",
   "metadata": {
    "slideshow": {
     "slide_type": "slide"
    }
   },
   "source": [
    "## 7.2 <br/>Hypothesis Testing for the Mean ($\\sigma$ Known)"
   ]
  },
  {
   "cell_type": "markdown",
   "metadata": {
    "slideshow": {
     "slide_type": "subslide"
    }
   },
   "source": [
    "### Using P@Values to Make Decisions\n",
    "\n",
    "To use a $P$-value to make a decision in a hypothesis test, compare the $P$-value with $\\alpha$.\n",
    "\n",
    "1. If $P \\le \\alpha$, then reject $H_0$.\n",
    "2. If $P > \\alpha$, then fail to reject $H_0$."
   ]
  },
  {
   "cell_type": "markdown",
   "metadata": {
    "slideshow": {
     "slide_type": "subslide"
    }
   },
   "source": [
    "### Interpreting a $P$-Value [example 1]\n",
    "\n",
    "The $P$-value for a hypothesis test is $P = 0.0237$. What is your decision when the level of significance is \n",
    "\n",
    "- Q1: $\\alpha = 0.05$ and \n",
    "- Q2: $\\alpha = 0.01$\n"
   ]
  },
  {
   "cell_type": "markdown",
   "metadata": {
    "slideshow": {
     "slide_type": "subslide"
    }
   },
   "source": [
    "### Interpreting a $P$-Value [solution]\n",
    "\n",
    "1. Because $0.0237 < 0.05$, we reject the null hypothesis.\n",
    "2. Because $0.0237 > 0.01$, we fail to reject the null hypothesis.\n",
    "\n",
    "- The lower the $P$-value, the more evidence there is in favor ofrejecting $H_0$. \n",
    "- The $P$-value givesyou the lowest level of significance for which the sample statistic allows you to reject the null hypothesis."
   ]
  },
  {
   "cell_type": "markdown",
   "metadata": {
    "slideshow": {
     "slide_type": "subslide"
    }
   },
   "source": [
    "### Finding the $P$-value for a Hypothesis Testing\n",
    "\n",
    "After determining the hypothesis test's standardized test statistic and the standardized test statistic's corresponding area, do one of the following to find the $P$-value.\n",
    "\n",
    "1. For a left-tailed test, $P =$ (Area in left tail).\n",
    "2. For a right-tailed test, $P =$ (Area in right tail).\n",
    "3. For a two-tailed test, $P = 2$ (Area in tail of standardized test statistic)."
   ]
  },
  {
   "cell_type": "markdown",
   "metadata": {
    "slideshow": {
     "slide_type": "subslide"
    }
   },
   "source": [
    "### Finding a $P$-Value for a Left-Tailed Test [example 2]\n",
    "\n",
    "Find the $P$-value for a left-tailed hypothesis test with a standardized test statistic of $z = -2.23$. Decide whether to reject $H_0$ when the level of significance is $\\alpha = 0.01$."
   ]
  },
  {
   "cell_type": "markdown",
   "metadata": {
    "slideshow": {
     "slide_type": "subslide"
    }
   },
   "source": [
    "### Finding a $P$-Value for a Left-Tailed Test [solution]\n",
    "\n",
    "![](./image/7_2_ex_2_left_tailed_test.png)\n",
    "\n",
    "The figure shows the standard normal curve with a shaded area tothe left of $z = -2.23$. For a left-tailed test,\n",
    "\n",
    "$P =$ (Area in left tail).\n",
    "\n",
    "- The area corresponding to $z = -2.23$ is $0.0129$, which is the area in the left tail. \n",
    "- So, the $P$-value for a left-tailed hypothesis test with a standardized test statistic of $z = -2.23$ is $P = 0.0129$.\n",
    "\n",
    "#### Interpretation  \n",
    "Because the $P$-value of $0.0129$ is greater than $0.01$,we fail to reject $H_0$."
   ]
  },
  {
   "cell_type": "code",
   "execution_count": 2,
   "metadata": {},
   "outputs": [
    {
     "name": "stdout",
     "output_type": "stream",
     "text": [
      "P: 0.012873721438602014\n"
     ]
    }
   ],
   "source": [
    "from scipy import stats\n",
    "\n",
    "z = -2.23\n",
    "P = stats.norm.cdf(z)\n",
    "print(f'P: {P}')"
   ]
  },
  {
   "cell_type": "markdown",
   "metadata": {
    "slideshow": {
     "slide_type": "subslide"
    }
   },
   "source": [
    "### Finding a P-Value for a Two-Tailed Test [example 3]\n",
    "\n",
    "Find the $P$-value for a two-tailed hypothesis test with a standardized test statistic of $z = 2.14$. Decide whether to reject $H_0$ when the level of significance is $\\alpha = 0.05$."
   ]
  },
  {
   "cell_type": "markdown",
   "metadata": {
    "slideshow": {
     "slide_type": "subslide"
    }
   },
   "source": [
    "### Finding a P-Value for a Two-Tailed Test [solution]\n",
    "\n",
    "![](./image/7_2_ex_3_two_tailed_test.png)\n",
    "\n",
    "The figure shows the standard normal curve with shaded areas to the left of $z = -2.14$ and to the right of $z = 2.14$. For a two-tailed test, \n",
    "\n",
    "$P = 2$ (Area in tail of standardized test statistic).\n",
    "\n",
    "- The area corresponding to $z = 2.14$ is $0.9838$. \n",
    "- The area in the right tail is $1 - 0.9838 = 0.0162$. \n",
    "- So, the $P$-value for a two-tailed hypothesis test with a standardized test statistic of $z = 2.14$ is $P = 2 \\times (0.0162) = 0.0324$.\n",
    "\n",
    "#### Interpretation  \n",
    "Because the $P$-value of $0.0324$ is less than $0.05$, you reject $H_0$ ."
   ]
  },
  {
   "cell_type": "code",
   "execution_count": 3,
   "metadata": {},
   "outputs": [
    {
     "name": "stdout",
     "output_type": "stream",
     "text": [
      "P: 0.03235476674433216\n"
     ]
    }
   ],
   "source": [
    "from scipy import stats\n",
    "\n",
    "z = - 2.14\n",
    "P = 2 * stats.norm.cdf(z)\n",
    "print(f'P: {P}')"
   ]
  },
  {
   "cell_type": "markdown",
   "metadata": {
    "slideshow": {
     "slide_type": "subslide"
    }
   },
   "source": [
    "### Using $P$-values for a $z$-Test\n",
    "\n",
    "- The $z$-test for a mean $\\mu$ is a statistical test for a population mean. \n",
    "- The test statistic is the sample mean $\\bar{x}$. \n",
    "- The standardized test statistic is: \n",
    "\n",
    "$z = \\frac{\\bar{x} - \\mu}{\\sigma / \\sqrt{n}}$\n",
    "\n",
    "- when these conditions are met.\n",
    "  1. The sample is random.\n",
    "  2. At least one of the following is true: The population is normally distributed or $n \\ge 30$.\n",
    "\n",
    "- Recall that $\\frac{\\sigma}{\\sqrt{n}}$ is the standard error of the mean, $\\sigma_\\bar{x}$ ."
   ]
  },
  {
   "cell_type": "markdown",
   "metadata": {
    "slideshow": {
     "slide_type": "subslide"
    }
   },
   "source": [
    "### Guidelines: Using $P$-Values for a $z$-Test for a Mean $\\mu$ ($\\sigma$ Known)\n",
    "\n",
    "1. Verify that $\\sigma$ is known, the sample is random, and either the population is normally distributed or $n \\ge 30$.\n",
    "\n",
    "2. State the claim mathematically and verbally. Identify the null and alternative hypotheses.\n",
    "  - State $H_0$ and $H_a$\n",
    "  \n",
    "3. Specify the level of significance.\n",
    "  - Identify $\\alpha$\n",
    "  \n",
    "4. Find the standardized test statistic.\n",
    "  - $z = \\frac{\\bar{x}-\\mu}{\\sigma/\\sqrt{n}}$\n",
    "  \n",
    "5. Find the area that corresponds to $z$.\n",
    "  - Use ```SciPy.stats```\n",
    "  \n",
    "6. Find the $P$-value.\n",
    "  - For a left-tailed test, $P$ = (Area in left tail).\n",
    "  - For a right-tailed test, $P$ = (Area in right tail).\n",
    "  - For a two-tailed test, $P$ = 2 (Area in tail of standardized test statistic).\n",
    "  \n",
    "7. Make a decision to reject or fail to reject the null hypothesis.\n",
    "  - If $P \\le \\alpha$, then reject $H_0$. Otherwise, fail to reject $H_0$.\n",
    "\n",
    "8. Interpret the decision in the context of the original claim."
   ]
  },
  {
   "cell_type": "markdown",
   "metadata": {
    "slideshow": {
     "slide_type": "subslide"
    }
   },
   "source": [
    "### Hypothesis Testing Using a $P$-Value [example 4]\n",
    "\n",
    "- In auto racing, a pit stop is where a racing vehicle stops for new tires, fuel, repairs, and other mechanical adjustments. \n",
    "- The efficiency of a pit crew that makes these adjustments can affect the outcome of a race. \n",
    "- A pit crew claims that its mean pit stop time (for $4$ new tires and fuel) is less than $13$ seconds.\n",
    "- A random sample of $32$ pit stop times has a sample mean of $12.9$ seconds.\n",
    "- Assume the population standard deviation is $0.19$ second. \n",
    "- Is there enough evidence to support the claim at $\\alpha = 0.01$? Use a $P$-value."
   ]
  },
  {
   "cell_type": "markdown",
   "metadata": {
    "slideshow": {
     "slide_type": "subslide"
    }
   },
   "source": [
    "### Hypothesis Testing Using a $P$-Value [solution]\n",
    "\n",
    "- Because $\\sigma$ is known ($\\sigma = 0.19$), the sample is random, and $n = 32 \\ge 30$, we can use the $z$-test. \n",
    "- The claim is \"the mean pit stop time is less than $13$ seconds.\" So, the null and alternative hypotheses are:\n",
    "  - $H_0 : \\mu \\ge 13$ seconds \n",
    "  - $H_a : \\mu < 13$ seconds. (Claim)\n",
    "- The level of significance is $\\alpha = 0.01$. The standardized test statistic is:\n",
    "  - $z = \\frac{\\bar{x}-\\mu}{\\sigma/\\sqrt{n}} = \\frac{12.9 - 13}{0.19/\\sqrt{32}} \\approx -2.98$\n",
    "- The area corresponding to $z = -2.98$ is $0.0014$ (we can use Scipy).\n",
    "- Because this test is a left-tailed test, the $P$-value is equal to the area to the left of $z = -2.98$, as shown in the figure. So, $P = 0.0014$. \n",
    "- Because the $P$-value is less than $\\alpha = 0.01$, we reject the null hypothesis.\n",
    "\n",
    "![](./image/7_2_ex_4_lest_tailed_test.png)\n",
    "\n",
    "#### Interpretation  \n",
    "There is enough evidence at the $1\\%$ level of significance to support the claim that the mean pit stop time is less than $13$ seconds."
   ]
  },
  {
   "cell_type": "code",
   "execution_count": 4,
   "metadata": {},
   "outputs": [
    {
     "name": "stdout",
     "output_type": "stream",
     "text": [
      "z: -2.977291710259137\n",
      "P: 0.0014540358484991462\n"
     ]
    }
   ],
   "source": [
    "import math\n",
    "from scipy import stats\n",
    "\n",
    "sigma = 0.19\n",
    "n = 32\n",
    "mu = 13\n",
    "x_bar = 12.9\n",
    "alpha = 0.01\n",
    "\n",
    "z = (x_bar - mu) / (sigma / math.sqrt(n))\n",
    "print(f'z: {z}')\n",
    "\n",
    "P = stats.norm.cdf(z)\n",
    "print(f'P: {P}')"
   ]
  },
  {
   "cell_type": "markdown",
   "metadata": {
    "slideshow": {
     "slide_type": "subslide"
    }
   },
   "source": [
    "### Hypothesis Testing Using a P-Value [example 5]\n",
    "\n",
    "- According to a study, the mean cost of bariatric (weight loss) surgery is $\\$21,500$. \n",
    "- You think this information is incorrect. \n",
    "- You randomly select $25$ bariatric surgery patients and find that the mean cost for their surgeries is $\\$20,695$. \n",
    "- From past studies, the population standard deviation is known to be $\\$2,250$ and the population is normally distributed. \n",
    "- Is there enough evidence to support your claim at $\\alpha = 0.05$? Use a $P$-value."
   ]
  },
  {
   "cell_type": "markdown",
   "metadata": {
    "slideshow": {
     "slide_type": "subslide"
    }
   },
   "source": [
    "### Hypothesis Testing Using a P-Value [solution]\n",
    "\n",
    "- Because $\\sigma$ is known ($\\sigma = \\$2,250$), the sample is random, and the population is normally distributed, you can use the $z$-test. \n",
    "- The claim is \"the mean is different from $\\$21,500$.\" So, the null and alternative hypotheses are:\n",
    "  - $H_0 : \\mu = \\$21,500$        \n",
    "  - $H_a : \\mu \\ne \\$21,500$. (Claim)\n",
    "- The level of significance is $\\alpha = 0.05$. The standardized test statistic is:\n",
    "  - $z = \\frac{\\bar{x}-\\mu}{\\sigma/\\sqrt{n}} = \\frac{20,695 - 21,500}{2,250/\\sqrt{25}} \\approx -1.79$\n",
    "- The area corresponding to $z = -1.79$ is $0.0367$ (we can use Scipy). \n",
    "- Because the test is a two-tailed test, the $P$-value is equal to twice the area to the left of $z = -1.79$, as shown in the figure. So:\n",
    "  - $P = 2 \\times (0.0367) = 0.0734$.\n",
    "- Because the $P$-value is greater than $\\alpha = 0.05$, you fail to reject the null hypothesis.\n",
    "\n",
    "![](./image/7_2_ex_5_two_tailed_test.png)\n",
    "\n",
    "#### Interpretation  \n",
    "There is not enough evidence at the $5\\%$ level of significance to support the claim that the mean cost of bariatric surgery is different from $\\$21,500$."
   ]
  },
  {
   "cell_type": "code",
   "execution_count": 5,
   "metadata": {},
   "outputs": [
    {
     "name": "stdout",
     "output_type": "stream",
     "text": [
      "z: -1.788888888888889\n",
      "P: 0.07363271157315165\n"
     ]
    }
   ],
   "source": [
    "import math\n",
    "from scipy import stats\n",
    "\n",
    "sigma = 2250\n",
    "n = 25\n",
    "mu = 21500\n",
    "x_bar = 20695\n",
    "alpha = 0.05\n",
    "\n",
    "z = (x_bar - mu) / (sigma / math.sqrt(n))\n",
    "print(f'z: {z}')\n",
    "\n",
    "P = 2 * stats.norm.cdf(z)\n",
    "print(f'P: {P}')"
   ]
  },
  {
   "cell_type": "markdown",
   "metadata": {
    "slideshow": {
     "slide_type": "subslide"
    }
   },
   "source": [
    "### Rejection Regions and Critical Values\n",
    "\n",
    "- Another method to decide whether to reject the null hypothesis is to determine whether the standardized test statistic falls within a range of values called the **rejection region** of the sampling distribution.\n",
    "- A rejection region (or critical region) of the sampling distribution is therange of values for which the null hypothesis is not probable. \n",
    "- If a standardizedtest statistic falls in this region, then the null hypothesis is rejected. \n",
    "- A critical value $z_0$ separates the rejection region from the nonrejection region."
   ]
  },
  {
   "cell_type": "markdown",
   "metadata": {
    "slideshow": {
     "slide_type": "subslide"
    }
   },
   "source": [
    "### Finding Critical Values in the Standard Normal Distribution [guidelines]\n",
    "\n",
    "1. Specify the level of significance $\\alpha$.\n",
    "2. Determine whether the test is left-tailed, right-tailed, or two-tailed.\n",
    "3. Find the critical value(s) $z_0$ . When the hypothesis test is:\n",
    "  - *left-tailed*, find the $z$-score that corresponds to an area of $\\alpha$.\n",
    "  - *right-tailed*, find the $z$-score that corresponds to an area of $1 - \\alpha$.\n",
    "  - *two-tailed*, find the $z$-scores that correspond to $\\frac{1}{2}\\alpha$ and $1 - \\frac{1}{2}\\alpha$.\n",
    "4. Sketch the standard normal distribution. Draw a vertical line at each critical\n",
    "value and shade the rejection region(s). (See the figures at the left.)\n",
    "\n",
    "Note that a standardized test statistic that falls in a rejection region is considered an **unusual event**.\n",
    "\n",
    "| ![](./image/7_2_left_tailed_test.png) | ![](./image/7_2_right_tailed_test.png) | \n",
    "|:-:|:-:|\n",
    "\n",
    "![](./image/7_2_two_tailed_test.png)"
   ]
  },
  {
   "cell_type": "markdown",
   "metadata": {
    "slideshow": {
     "slide_type": "subslide"
    }
   },
   "source": [
    "### Finding a Critical Value for a Left-Tailed Test [example 7]\n",
    "\n",
    "Find the critical value and rejection region for a left-tailed test with $\\alpha = 0.014$."
   ]
  },
  {
   "cell_type": "markdown",
   "metadata": {
    "slideshow": {
     "slide_type": "subslide"
    }
   },
   "source": [
    "### Finding a Critical Value for a Left-Tailed Test [solution]\n",
    "\n",
    "- The figure shows the standard normal curve with a shaded area of $0.01$ in the left tail. \n",
    "- The $z$-score that is closest to an area of $0.01$ is $-2.33$ (we can use Scipy). \n",
    "- So, the critical value is\n",
    "  - $z_0 = -2.33$\n",
    "- The rejection region is to the left of this critical value.\n",
    "\n",
    "![](./image/7_2_ex_7_left_tailed_test.png)"
   ]
  },
  {
   "cell_type": "markdown",
   "metadata": {
    "slideshow": {
     "slide_type": "subslide"
    }
   },
   "source": [
    "### Finding Critical Values for a Two-Tailed Test [example 8]\n",
    "\n",
    "Find the critical values and rejection regions for a two-tailed test with $\\alpha = 0.05$."
   ]
  },
  {
   "cell_type": "markdown",
   "metadata": {
    "slideshow": {
     "slide_type": "subslide"
    }
   },
   "source": [
    "### Finding Critical Values for a Two-Tailed Test [solution]\n",
    "\n",
    "- The figure shows the standard normal curve with shaded areas of $\\frac{1}{2} \\alpha = 0.025$ in each tail. \n",
    "- The area to the left of $-z_0$ is $\\frac{1}{2} \\alpha = 0.025$, and the area to the left of $z_0$ is $1 - \\frac{1}{2} \\alpha = 0.975$. \n",
    "- The $z$-scores that correspond to the areas $0.025$ and $0.975$ are $-1.96$ and $1.96$, respectively. \n",
    "- So, the critical values are $-z_0 = -1.96$ and $z_0 = 1.96$. \n",
    "- The rejection regions are to the left of $-1.96$ and to the right of $1.96$.\n",
    "\n",
    "![](./image/7_2_ex_8_two_tailed_test.png)"
   ]
  },
  {
   "cell_type": "markdown",
   "metadata": {
    "slideshow": {
     "slide_type": "subslide"
    }
   },
   "source": [
    "### Using Rejection Regions for a $z$-Test\n",
    "\n",
    "- To use a rejection region to conduct a hypothesis test, calculate the standardized test statistic $z$. \n",
    "- If the standardized test statistic $z$:\n",
    "  1. is in the rejection region, then reject $H_0$.\n",
    "  2. is not in the rejection region, then fail to reject $H_0$.\n",
    "  \n",
    "![](./image/72_decision_rule_based_on_rejection_region.png)\n",
    "  \n",
    "Remember, failing to reject the null hypothesis does not mean that you have accepted the null hypothesis as true. It simply means that there is not enough evidence to reject the null hypothesis."
   ]
  },
  {
   "cell_type": "markdown",
   "metadata": {
    "slideshow": {
     "slide_type": "subslide"
    }
   },
   "source": [
    "### Using Rejection Regions for a $z$-Test for a Mean $\\mu$ ($\\sigma$ Known) [guidelines]\n",
    "\n",
    "1. Verify that $\\sigma$ is known, the sample is random, and either the population is normally distributed or $n \\ge 30$.\n",
    "\n",
    "2. State the claim mathematically and verbally. Identify the null and alternative hypotheses.\n",
    "  - State $H_0$ and $H_a$\n",
    "  \n",
    "3. Specify the level of significance.\n",
    "  - Identify $\\alpha$\n",
    "\n",
    "4. Determine the critical value(s) (we can use Scipy)\n",
    "\n",
    "5. Determine the rejection region(s).\n",
    "\n",
    "6. Find the standardized test statistic and sketch the sampling distribution.\n",
    "  - $z = \\frac{\\bar{x} - \\mu}{\\sigma / \\sqrt{n}}$\n",
    "\n",
    "7. Make a decision to reject or fail to reject the null hypothesis.\n",
    "  - If $z$ is in the rejection region, then reject $H_0$. Otherwise, fail to reject $H_0$.\n",
    "  \n",
    "8. Interpret the decision in the context of the original claim."
   ]
  },
  {
   "cell_type": "markdown",
   "metadata": {
    "slideshow": {
     "slide_type": "subslide"
    }
   },
   "source": [
    "### Hypothesis Testing Using a Rejection Region [example 9]\n",
    "\n",
    "- Employees at a construction and mining company claim that the mean salary of the company’s mechanical engineers is less than that of one of its competitors,which is $\\$68,000$. \n",
    "- A random sample of $20$ of the company’s mechanical engineers has a mean salary of $\\$66,900$. \n",
    "- Assume the population standard deviation is $\\$5,500$ and the population is normally distributed. \n",
    "- At $\\alpha = 0.05$, test the employees’ claim."
   ]
  },
  {
   "cell_type": "markdown",
   "metadata": {
    "slideshow": {
     "slide_type": "subslide"
    }
   },
   "source": [
    "### Hypothesis Testing Using a Rejection Region [solution]\n",
    "\n",
    "- Because $\\sigma$ is known $\\sigma = \\$5,500$, the sample is random, and the population is normally distributed, you can use the $z$-test. \n",
    "- The claim is \"the mean salary is less than $\\$68,000$.\" \n",
    "- So, the null and alternative hypotheses can be written as:\n",
    "  - $H_0 : \\mu \\ge \\$68,000$       \n",
    "  - $H_a : \\mu < \\$68,000$. (Claim)\n",
    "- Because the test is a left-tailed test and the level of significance is $\\alpha = 0.05$, the critical value is $z_0 = -1.645$ and the rejection region is $z < -1.645$. \n",
    "- The standardized test statistic is:\n",
    "  - $z = \\frac{\\bar{x} - \\mu}{\\sigma / \\sqrt{n}} = \\frac{66900 - 68000}{5500 / \\sqrt{20}} \\approx -0.89$\n",
    "  \n",
    "![](./image/7_2_ex_9_left_tailed_test.png)\n",
    "\n",
    "- The figure shows the location of the rejection region and the standardized test statistic $z$. \n",
    "- Because $z$ is not in the $\\alpha = 0.05$ rejection region, we fail to reject the null hypothesis.\n",
    "\n",
    "#### Interpretation  \n",
    "- There is not enough evidence at the $5\\%$ level of significance to support the employees’ claim that the mean salary is less than $\\$68,000$.\n",
    "- Be sure you understand the decision made in this example. Even though our sample has a mean of $\\$66,900$, we cannot (at a $5\\%$ level of significance) support the claim that the mean of all the mechanical engineers’ salaries is less than $\\$68,000$. \n",
    "- The difference between your test statistic ($\\bar{x} = \\$66,900$) and the hypothesized mean ($\\mu = \\$68,000$) is probably due to sampling error."
   ]
  },
  {
   "cell_type": "markdown",
   "metadata": {
    "slideshow": {
     "slide_type": "subslide"
    }
   },
   "source": [
    "#### Hypothesis Testing Using Rejection Regions [example 10]\n",
    "\n",
    "- A researcher claims that the mean annual cost of raising a child (age $2$ and under) by husband-wife families in the U.S. is $\\$13,960$. \n",
    "- In a random sample of husband-wife families in the U.S., the mean annual cost of raising a child (age $2$ and under) is $\\$13,725$. \n",
    "- The sample consists of $500$ children. \n",
    "- Assume the population standard deviation is $\\$2,345$. \n",
    "- At $\\alpha = 0.10$, is there enough evidence to reject the claim?"
   ]
  },
  {
   "cell_type": "markdown",
   "metadata": {
    "slideshow": {
     "slide_type": "subslide"
    }
   },
   "source": [
    "#### Hypothesis Testing Using Rejection Regions [solution]\n",
    "\n",
    "- Because $\\sigma$ is known ($\\sigma = \\$2,345$), the sample is random, and $n = 500 \\ge 30$, we can use the $z$-test. \n",
    "- The claim is \"the mean annual cost is $\\$13,960$.\" \n",
    "- So, the null and alternative hypotheses are:\n",
    "  - $H_0 : \\mu = \\$13,960$  (Claim)\n",
    "  - $H_a : \\mu \\ne \\$13,960$."
   ]
  }
 ],
 "metadata": {
  "celltoolbar": "Slideshow",
  "kernelspec": {
   "display_name": "Python 3",
   "language": "python",
   "name": "python3"
  },
  "language_info": {
   "codemirror_mode": {
    "name": "ipython",
    "version": 3
   },
   "file_extension": ".py",
   "mimetype": "text/x-python",
   "name": "python",
   "nbconvert_exporter": "python",
   "pygments_lexer": "ipython3",
   "version": "3.7.6"
  }
 },
 "nbformat": 4,
 "nbformat_minor": 4
}
